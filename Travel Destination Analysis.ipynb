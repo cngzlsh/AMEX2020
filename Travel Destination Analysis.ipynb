{
 "cells": [
  {
   "cell_type": "markdown",
   "metadata": {},
   "source": [
    "# Data Analysis - Travel Destinations\n",
    "\n",
    "In this notebook, we explore and construct a list of features for different travel destinations in order to help the customer make a travel plan suitable to their likings.\n",
    "\n",
    "First we need a list of destinations. Assuming the customer is based in the United Kingdom as we are, we choose the list of destinations of the most popular airlines in the UK - British Airways (BA), EasyJet and Ryanair. This data is public and can be retrived from Wikipedia: \n",
    "https://en.wikipedia.org/wiki/List_of_British_Airways_destinations,\n",
    "https://en.wikipedia.org/wiki/List_of_EasyJet_destinations,\n",
    "https://en.wikipedia.org/wiki/List_of_Ryanair_destinations."
   ]
  },
  {
   "cell_type": "code",
   "execution_count": 2,
   "metadata": {},
   "outputs": [],
   "source": [
    "import pandas as pd"
   ]
  },
  {
   "cell_type": "code",
   "execution_count": 19,
   "metadata": {},
   "outputs": [
    {
     "data": {
      "text/html": [
       "<div>\n",
       "<style scoped>\n",
       "    .dataframe tbody tr th:only-of-type {\n",
       "        vertical-align: middle;\n",
       "    }\n",
       "\n",
       "    .dataframe tbody tr th {\n",
       "        vertical-align: top;\n",
       "    }\n",
       "\n",
       "    .dataframe thead th {\n",
       "        text-align: right;\n",
       "    }\n",
       "</style>\n",
       "<table border=\"1\" class=\"dataframe\">\n",
       "  <thead>\n",
       "    <tr style=\"text-align: right;\">\n",
       "      <th></th>\n",
       "      <th>Country</th>\n",
       "      <th>City</th>\n",
       "      <th>Airport</th>\n",
       "      <th>Notes</th>\n",
       "      <th>Refs</th>\n",
       "    </tr>\n",
       "  </thead>\n",
       "  <tbody>\n",
       "    <tr>\n",
       "      <th>0</th>\n",
       "      <td>Albania</td>\n",
       "      <td>Tirana</td>\n",
       "      <td>Tirana International Airport Nënë Tereza</td>\n",
       "      <td>Passenger</td>\n",
       "      <td>NaN</td>\n",
       "    </tr>\n",
       "    <tr>\n",
       "      <th>1</th>\n",
       "      <td>Algeria</td>\n",
       "      <td>Algiers</td>\n",
       "      <td>Houari Boumediene Airport</td>\n",
       "      <td>Passenger</td>\n",
       "      <td>NaN</td>\n",
       "    </tr>\n",
       "    <tr>\n",
       "      <th>2</th>\n",
       "      <td>Algeria</td>\n",
       "      <td>Hassi Messaoud</td>\n",
       "      <td>Oued Irara–Krim Belkacem Airport</td>\n",
       "      <td>Terminated</td>\n",
       "      <td>[1][2]</td>\n",
       "    </tr>\n",
       "    <tr>\n",
       "      <th>3</th>\n",
       "      <td>Angola</td>\n",
       "      <td>Luanda</td>\n",
       "      <td>Quatro de Fevereiro Airport</td>\n",
       "      <td>Terminated</td>\n",
       "      <td>[3]</td>\n",
       "    </tr>\n",
       "    <tr>\n",
       "      <th>4</th>\n",
       "      <td>Antigua and Barbuda</td>\n",
       "      <td>St. John's</td>\n",
       "      <td>V. C. Bird International Airport</td>\n",
       "      <td>Passenger</td>\n",
       "      <td>NaN</td>\n",
       "    </tr>\n",
       "  </tbody>\n",
       "</table>\n",
       "</div>"
      ],
      "text/plain": [
       "               Country            City  \\\n",
       "0              Albania          Tirana   \n",
       "1              Algeria         Algiers   \n",
       "2              Algeria  Hassi Messaoud   \n",
       "3               Angola          Luanda   \n",
       "4  Antigua and Barbuda      St. John's   \n",
       "\n",
       "                                    Airport       Notes    Refs  \n",
       "0  Tirana International Airport Nënë Tereza   Passenger     NaN  \n",
       "1                 Houari Boumediene Airport   Passenger     NaN  \n",
       "2          Oued Irara–Krim Belkacem Airport  Terminated  [1][2]  \n",
       "3               Quatro de Fevereiro Airport  Terminated     [3]  \n",
       "4          V. C. Bird International Airport   Passenger     NaN  "
      ]
     },
     "execution_count": 19,
     "metadata": {},
     "output_type": "execute_result"
    }
   ],
   "source": [
    "ba_destinations = pd.read_csv('./travel_destinations_data/ba_destinations.csv')\n",
    "ej_destinations = pd.read_csv('./travel_destinations_data/easyjet_destinations.csv')\n",
    "ra_destinations = pd.read_csv('./travel_destinations_data/ryanair_destinations.csv')\n",
    "ba_destinations.head(5)"
   ]
  },
  {
   "cell_type": "code",
   "execution_count": 67,
   "metadata": {},
   "outputs": [
    {
     "name": "stdout",
     "output_type": "stream",
     "text": [
      "370\n"
     ]
    }
   ],
   "source": [
    "# We drop all destinations that has been terminated (note: easyjet destinations excludes terminated)\n",
    "ba_destinations.drop(index=ba_destinations[ba_destinations['Notes'] == 'Terminated'].index, inplace=True)\n",
    "ra_destinations.drop(index=ra_destinations[ra_destinations['Notes'] == 'Terminated'].index, inplace=True)\n",
    "ba_destinations.reset_index(drop=True)\n",
    "ra_destinations.reset_index(drop=True)\n",
    "# create a list of all countries and cities from the three airlines\n",
    "all_destinations = []\n",
    "for i in range(ba_destinations.shape[0]):\n",
    "    all_destinations.append([\n",
    "        ba_destinations.iloc[i]['Country'],\n",
    "        ba_destinations.iloc[i]['City']\n",
    "    ])\n",
    "\n",
    "for i in range(ej_destinations.shape[0]):\n",
    "    destination = [ej_destinations.iloc[i]['Country'], ej_destinations.iloc[i]['City']]\n",
    "    if destination not in all_destinations:\n",
    "        all_destinations.append(destination)\n",
    "    else:\n",
    "        continue\n",
    "\n",
    "for i in range(ra_destinations.shape[0]):\n",
    "    destination = [ra_destinations.iloc[i]['Country'], ra_destinations.iloc[i]['City']]\n",
    "    if destination not in all_destinations:\n",
    "        all_destinations.append(destination)\n",
    "    else:\n",
    "        continue\n",
    "print(len(all_destinations))"
   ]
  },
  {
   "cell_type": "code",
   "execution_count": null,
   "metadata": {},
   "outputs": [],
   "source": []
  }
 ],
 "metadata": {
  "kernelspec": {
   "display_name": "Python 3",
   "language": "python",
   "name": "python3"
  },
  "language_info": {
   "codemirror_mode": {
    "name": "ipython",
    "version": 3
   },
   "file_extension": ".py",
   "mimetype": "text/x-python",
   "name": "python",
   "nbconvert_exporter": "python",
   "pygments_lexer": "ipython3",
   "version": "3.7.6"
  }
 },
 "nbformat": 4,
 "nbformat_minor": 4
}
